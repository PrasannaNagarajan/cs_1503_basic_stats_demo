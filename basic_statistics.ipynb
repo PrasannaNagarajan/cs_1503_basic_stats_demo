{
 "cells": [
  {
   "cell_type": "markdown",
   "metadata": {},
   "source": [
    "# Describing Datasets: demo"
   ]
  },
  {
   "cell_type": "markdown",
   "metadata": {},
   "source": [
    "# Part 1: Basic Statistics"
   ]
  },
  {
   "cell_type": "markdown",
   "metadata": {},
   "source": [
    "The sample input dataset is taken from Conway & Myles Machine Learning for Hackers book, Chapter 2.\n",
    "\n",
    "Each sample contains three columns.\n",
    "* Height in inches\n",
    "* Weight in pounds\n",
    "* IsMale: 1 corresponds to a male person, and 0 corresponds to a female person.\n",
    "\n",
    "We want to collect different basic statistics for this dataset."
   ]
  },
  {
   "cell_type": "code",
   "execution_count": 1,
   "metadata": {},
   "outputs": [],
   "source": [
    " data_file = \"height_weight_gender.csv\""
   ]
  },
  {
   "cell_type": "code",
   "execution_count": 2,
   "metadata": {},
   "outputs": [
    {
     "name": "stdout",
     "output_type": "stream",
     "text": [
      "Index(['Height', 'Weight', 'IsMale'], dtype='object')\n",
      "Height    float64\n",
      "Weight    float64\n",
      "IsMale      int64\n",
      "dtype: object\n"
     ]
    }
   ],
   "source": [
    "import pandas as pd\n",
    "\n",
    "data = pd.read_csv(data_file)\n",
    "print(data.columns)\n",
    "print(data.dtypes)"
   ]
  },
  {
   "cell_type": "code",
   "execution_count": 3,
   "metadata": {
    "scrolled": true
   },
   "outputs": [
    {
     "data": {
      "text/html": [
       "<div>\n",
       "<style scoped>\n",
       "    .dataframe tbody tr th:only-of-type {\n",
       "        vertical-align: middle;\n",
       "    }\n",
       "\n",
       "    .dataframe tbody tr th {\n",
       "        vertical-align: top;\n",
       "    }\n",
       "\n",
       "    .dataframe thead th {\n",
       "        text-align: right;\n",
       "    }\n",
       "</style>\n",
       "<table border=\"1\" class=\"dataframe\">\n",
       "  <thead>\n",
       "    <tr style=\"text-align: right;\">\n",
       "      <th></th>\n",
       "      <th>Height</th>\n",
       "      <th>Weight</th>\n",
       "      <th>IsMale</th>\n",
       "    </tr>\n",
       "  </thead>\n",
       "  <tbody>\n",
       "    <tr>\n",
       "      <th>count</th>\n",
       "      <td>10000.000000</td>\n",
       "      <td>10000.000000</td>\n",
       "      <td>10000.000000</td>\n",
       "    </tr>\n",
       "    <tr>\n",
       "      <th>mean</th>\n",
       "      <td>66.367560</td>\n",
       "      <td>161.440357</td>\n",
       "      <td>0.500000</td>\n",
       "    </tr>\n",
       "    <tr>\n",
       "      <th>std</th>\n",
       "      <td>3.847528</td>\n",
       "      <td>32.108439</td>\n",
       "      <td>0.500025</td>\n",
       "    </tr>\n",
       "    <tr>\n",
       "      <th>min</th>\n",
       "      <td>54.263133</td>\n",
       "      <td>64.700127</td>\n",
       "      <td>0.000000</td>\n",
       "    </tr>\n",
       "    <tr>\n",
       "      <th>25%</th>\n",
       "      <td>63.505620</td>\n",
       "      <td>135.818051</td>\n",
       "      <td>0.000000</td>\n",
       "    </tr>\n",
       "    <tr>\n",
       "      <th>50%</th>\n",
       "      <td>66.318070</td>\n",
       "      <td>161.212928</td>\n",
       "      <td>0.500000</td>\n",
       "    </tr>\n",
       "    <tr>\n",
       "      <th>75%</th>\n",
       "      <td>69.174262</td>\n",
       "      <td>187.169525</td>\n",
       "      <td>1.000000</td>\n",
       "    </tr>\n",
       "    <tr>\n",
       "      <th>max</th>\n",
       "      <td>78.998742</td>\n",
       "      <td>269.989698</td>\n",
       "      <td>1.000000</td>\n",
       "    </tr>\n",
       "  </tbody>\n",
       "</table>\n",
       "</div>"
      ],
      "text/plain": [
       "             Height        Weight        IsMale\n",
       "count  10000.000000  10000.000000  10000.000000\n",
       "mean      66.367560    161.440357      0.500000\n",
       "std        3.847528     32.108439      0.500025\n",
       "min       54.263133     64.700127      0.000000\n",
       "25%       63.505620    135.818051      0.000000\n",
       "50%       66.318070    161.212928      0.500000\n",
       "75%       69.174262    187.169525      1.000000\n",
       "max       78.998742    269.989698      1.000000"
      ]
     },
     "execution_count": 3,
     "metadata": {},
     "output_type": "execute_result"
    }
   ],
   "source": [
    "data.describe()"
   ]
  },
  {
   "cell_type": "markdown",
   "metadata": {},
   "source": [
    "## Subset of a dataset"
   ]
  },
  {
   "cell_type": "code",
   "execution_count": 4,
   "metadata": {},
   "outputs": [
    {
     "data": {
      "text/plain": [
       "0    73.847017\n",
       "1    68.781904\n",
       "2    74.110105\n",
       "3    71.730978\n",
       "4    69.881796\n",
       "Name: Height, dtype: float64"
      ]
     },
     "execution_count": 4,
     "metadata": {},
     "output_type": "execute_result"
    }
   ],
   "source": [
    "height = data[\"Height\"]\n",
    "height.head()"
   ]
  },
  {
   "cell_type": "code",
   "execution_count": 5,
   "metadata": {},
   "outputs": [
    {
     "data": {
      "text/plain": [
       "5000    58.910732\n",
       "5001    65.230013\n",
       "5002    63.369004\n",
       "5003    64.479997\n",
       "5004    61.793096\n",
       "Name: Height, dtype: float64"
      ]
     },
     "execution_count": 5,
     "metadata": {},
     "output_type": "execute_result"
    }
   ],
   "source": [
    "# Only women:\n",
    "women = data[data[\"IsMale\"]== 0]\n",
    "w_height = women[\"Height\"]\n",
    "w_height.head()"
   ]
  },
  {
   "cell_type": "code",
   "execution_count": 6,
   "metadata": {},
   "outputs": [
    {
     "data": {
      "text/plain": [
       "0    73.847017\n",
       "1    68.781904\n",
       "2    74.110105\n",
       "3    71.730978\n",
       "4    69.881796\n",
       "Name: Height, dtype: float64"
      ]
     },
     "execution_count": 6,
     "metadata": {},
     "output_type": "execute_result"
    }
   ],
   "source": [
    "men = data[data[\"IsMale\"]== 1]\n",
    "m_height = men[\"Height\"]\n",
    "m_height.head()"
   ]
  },
  {
   "cell_type": "markdown",
   "metadata": {},
   "source": [
    "## Mean and Median\n",
    "\n",
    "To find a mean across a single dimension:"
   ]
  },
  {
   "cell_type": "code",
   "execution_count": 7,
   "metadata": {},
   "outputs": [
    {
     "name": "stdout",
     "output_type": "stream",
     "text": [
      "MEAN of the height:\n",
      "66.367559754866\n"
     ]
    }
   ],
   "source": [
    "print(\"MEAN of the height:\")\n",
    "print(height.mean())"
   ]
  },
  {
   "cell_type": "code",
   "execution_count": 8,
   "metadata": {},
   "outputs": [
    {
     "name": "stdout",
     "output_type": "stream",
     "text": [
      "Mean of the men height:\n",
      "69.026345906274\n"
     ]
    }
   ],
   "source": [
    "print(\"Mean of the men height:\")\n",
    "print(m_height.mean())"
   ]
  },
  {
   "cell_type": "code",
   "execution_count": 9,
   "metadata": {},
   "outputs": [
    {
     "name": "stdout",
     "output_type": "stream",
     "text": [
      "Mean of the women height:\n",
      "63.708773603458006\n"
     ]
    }
   ],
   "source": [
    "print(\"Mean of the women height:\")\n",
    "print(w_height.mean())"
   ]
  },
  {
   "cell_type": "markdown",
   "metadata": {},
   "source": [
    "To find a median:"
   ]
  },
  {
   "cell_type": "code",
   "execution_count": 10,
   "metadata": {},
   "outputs": [
    {
     "name": "stdout",
     "output_type": "stream",
     "text": [
      "MEDIAN of the height:\n",
      "66.31807008\n"
     ]
    }
   ],
   "source": [
    "print(\"MEDIAN of the height:\")\n",
    "print(height.median())"
   ]
  },
  {
   "cell_type": "markdown",
   "metadata": {},
   "source": [
    "The mean and the median do not differ significantly in this dataset."
   ]
  },
  {
   "cell_type": "markdown",
   "metadata": {},
   "source": [
    "## Difference between Mean and Median\n",
    "\n",
    "To see the difference let's add several new observations to the dataset: some tallest known men:\n",
    "\n",
    "272 cm (107.087 in)\n",
    "\n",
    "270 cm (106.299 in) \n",
    "\n",
    "269 cm (105.906 in)\n",
    "\n",
    "265 cm (104.331 in)\n",
    "\n",
    "264 cm (103.937 in)"
   ]
  },
  {
   "cell_type": "code",
   "execution_count": 11,
   "metadata": {},
   "outputs": [
    {
     "data": {
      "text/plain": [
       "5000    107.087\n",
       "5001    106.299\n",
       "5002    106.906\n",
       "5003    104.331\n",
       "5004    103.937\n",
       "Name: Height, dtype: float64"
      ]
     },
     "execution_count": 11,
     "metadata": {},
     "output_type": "execute_result"
    }
   ],
   "source": [
    "# create a new dataset with an oulier\n",
    "m_height_out = m_height.copy()\n",
    "\n",
    "new_row =  107.087\n",
    "# add the new row at the end\n",
    "m_height_out.loc[len(m_height_out)] = new_row\n",
    "\n",
    "new_row =  106.299\n",
    "# add the new row at the end\n",
    "m_height_out.loc[len(m_height_out)] = new_row\n",
    "\n",
    "new_row =  106.906\n",
    "# add the new row at the end\n",
    "m_height_out.loc[len(m_height_out)] = new_row\n",
    "\n",
    "new_row =  104.331\n",
    "# add the new row at the end\n",
    "m_height_out.loc[len(m_height_out)] = new_row\n",
    "\n",
    "new_row =  103.937\n",
    "# add the new row at the end\n",
    "m_height_out.loc[len(m_height_out)] = new_row\n",
    "\n",
    "# check that they were added\n",
    "m_height_out.tail()"
   ]
  },
  {
   "cell_type": "code",
   "execution_count": 13,
   "metadata": {},
   "outputs": [
    {
     "name": "stdout",
     "output_type": "stream",
     "text": [
      "MEAN of the height in the original dataset:\n",
      "69.026345906274\n",
      "MEAN of the height in dataset with one outlier:\n",
      "69.06299491136265\n"
     ]
    }
   ],
   "source": [
    "print(\"MEAN of the height in the original dataset:\")\n",
    "print(m_height.mean())\n",
    "print(\"MEAN of the height in dataset with one outlier:\")\n",
    "print(m_height_out.mean())"
   ]
  },
  {
   "cell_type": "code",
   "execution_count": 14,
   "metadata": {},
   "outputs": [
    {
     "name": "stdout",
     "output_type": "stream",
     "text": [
      "MEDIAN of the height in the original dataset:\n",
      "69.02770851\n",
      "MEDIAN of the height in dataset with one outlier:\n",
      "69.03077173\n"
     ]
    }
   ],
   "source": [
    "print(\"MEDIAN of the height in the original dataset:\")\n",
    "print(m_height.median())\n",
    "print(\"MEDIAN of the height in dataset with one outlier:\")\n",
    "print(m_height_out.median())"
   ]
  },
  {
   "cell_type": "markdown",
   "metadata": {},
   "source": [
    "## Standard deviation\n",
    "To find a variance/standard deviation:"
   ]
  },
  {
   "cell_type": "code",
   "execution_count": 15,
   "metadata": {},
   "outputs": [
    {
     "data": {
      "text/plain": [
       "14.803472640312714"
      ]
     },
     "execution_count": 15,
     "metadata": {},
     "output_type": "execute_result"
    }
   ],
   "source": [
    "# Returns unbiased variance over requested axis.\n",
    "# Normalized by N-1 by default: ddof = 1\n",
    "height.var(ddof=1)"
   ]
  },
  {
   "cell_type": "markdown",
   "metadata": {},
   "source": [
    "If that wiould be not a sample but the entire population, we would set ddof=0:"
   ]
  },
  {
   "cell_type": "code",
   "execution_count": 16,
   "metadata": {},
   "outputs": [
    {
     "data": {
      "text/plain": [
       "14.801992293048682"
      ]
     },
     "execution_count": 16,
     "metadata": {},
     "output_type": "execute_result"
    }
   ],
   "source": [
    "# Population variance: ddof = 0\n",
    "height.var(ddof=0)"
   ]
  },
  {
   "cell_type": "code",
   "execution_count": 17,
   "metadata": {},
   "outputs": [
    {
     "data": {
      "text/plain": [
       "3.847528120795573"
      ]
     },
     "execution_count": 17,
     "metadata": {},
     "output_type": "execute_result"
    }
   ],
   "source": [
    "# Returns sample standard deviation over requested axis.\n",
    "# Normalized by N-1 by default: ddof = 1\n",
    "height.std(ddof=1)"
   ]
  },
  {
   "cell_type": "markdown",
   "metadata": {},
   "source": [
    "## Mode\n",
    "\n",
    "The mode of a set of values is the value that appears most often: the peek of a frequency distribution.\n",
    "The distribution might have several modes.\n",
    "\n",
    "Because the values of height and weight are continuous, the mode is not directly applicable here:"
   ]
  },
  {
   "cell_type": "code",
   "execution_count": 18,
   "metadata": {
    "scrolled": true
   },
   "outputs": [
    {
     "data": {
      "text/plain": [
       "0       54.263133\n",
       "1       54.616858\n",
       "2       54.873728\n",
       "3       55.148557\n",
       "4       55.336492\n",
       "          ...    \n",
       "9995    78.095867\n",
       "9996    78.462053\n",
       "9997    78.528210\n",
       "9998    78.621374\n",
       "9999    78.998742\n",
       "Name: Height, Length: 10000, dtype: float64"
      ]
     },
     "execution_count": 18,
     "metadata": {},
     "output_type": "execute_result"
    }
   ],
   "source": [
    "data[\"Height\"].mode()"
   ]
  },
  {
   "cell_type": "markdown",
   "metadata": {},
   "source": [
    "That means that each value occurs only once, and every one of them is a mode value."
   ]
  },
  {
   "cell_type": "code",
   "execution_count": 19,
   "metadata": {},
   "outputs": [
    {
     "data": {
      "text/plain": [
       "dtype('int32')"
      ]
     },
     "execution_count": 19,
     "metadata": {},
     "output_type": "execute_result"
    }
   ],
   "source": [
    "# we convert the float into int\n",
    "int_height = data[\"Height\"].astype('int32')\n",
    "int_height.dtype"
   ]
  },
  {
   "cell_type": "code",
   "execution_count": 20,
   "metadata": {},
   "outputs": [
    {
     "data": {
      "text/plain": [
       "dtype('float64')"
      ]
     },
     "execution_count": 20,
     "metadata": {},
     "output_type": "execute_result"
    }
   ],
   "source": [
    "# check that this did not harm the original dataset\n",
    "data[\"Height\"].dtype"
   ]
  },
  {
   "cell_type": "code",
   "execution_count": 21,
   "metadata": {
    "scrolled": false
   },
   "outputs": [
    {
     "name": "stdout",
     "output_type": "stream",
     "text": [
      "MEAN of the int_height:\n",
      "65.8662\n",
      "MEDIAN of the int_height:\n",
      "66.0\n",
      "MODE of the int_height:\n",
      "0    67\n",
      "Name: Height, dtype: int32\n"
     ]
    }
   ],
   "source": [
    "# now compute basic statistics\n",
    "print(\"MEAN of the int_height:\")\n",
    "print(int_height.mean())\n",
    "\n",
    "print(\"MEDIAN of the int_height:\")\n",
    "print(int_height.median())\n",
    "\n",
    "print(\"MODE of the int_height:\")\n",
    "print(int_height.mode())"
   ]
  },
  {
   "cell_type": "markdown",
   "metadata": {},
   "source": [
    "# Part 2: Visualizing Data"
   ]
  },
  {
   "cell_type": "markdown",
   "metadata": {},
   "source": [
    "## Bar charts\n",
    "\n",
    "We use these charts to compare frequencies or counts: for example the count of data points in different categories. They are  often used for displaying nominal(categorical) data: data that has no inherent order or structure, such as hair color or preferred drink.\n",
    "\n",
    "In our dataset we have two categories: Male and Female. "
   ]
  },
  {
   "cell_type": "code",
   "execution_count": 22,
   "metadata": {},
   "outputs": [],
   "source": [
    "import matplotlib.pyplot as plt\n",
    "%matplotlib inline\n",
    "# ^-- this \"magic\" tells all future matplotlib plots to be drawn inside notebook and not in a separate window."
   ]
  },
  {
   "cell_type": "markdown",
   "metadata": {},
   "source": [
    "How many total observations in each category? Using frequency counts for each."
   ]
  },
  {
   "cell_type": "code",
   "execution_count": 23,
   "metadata": {},
   "outputs": [
    {
     "data": {
      "text/plain": [
       "Text(0, 0.5, 'Count')"
      ]
     },
     "execution_count": 23,
     "metadata": {},
     "output_type": "execute_result"
    },
    {
     "data": {
      "image/png": "[encoded data removed]",
      "text/plain": [
       "<Figure size 500x300 with 1 Axes>"
      ]
     },
     "metadata": {},
     "output_type": "display_data"
    }
   ],
   "source": [
    "# create data for the plot\n",
    "plotdata = pd.DataFrame({\n",
    "    \"totals\":[m_height.count(), w_height.count()]},\n",
    "    index=[\"Male\", \"Female\"])\n",
    "plotdata.plot(kind='bar', figsize=(5, 3))\n",
    "\n",
    "plt.title(\"Total frequencies\")\n",
    "plt.ylabel(\"Count\")"
   ]
  },
  {
   "cell_type": "markdown",
   "metadata": {},
   "source": [
    "What is the mean height and mean weight of men and women in the dataset?\n",
    "\n",
    "We will also compute the mean BMI index:  \n",
    "\n",
    "$BMI = weight (lb) / height (in)^2 \\times 703$"
   ]
  },
  {
   "cell_type": "code",
   "execution_count": 24,
   "metadata": {},
   "outputs": [
    {
     "data": {
      "text/plain": [
       "Text(0, 0.5, 'Mean values')"
      ]
     },
     "execution_count": 24,
     "metadata": {},
     "output_type": "execute_result"
    },
    {
     "data": {
      "image/png": "[encoded data removed]",
      "text/plain": [
       "<Figure size 600x400 with 1 Axes>"
      ]
     },
     "metadata": {},
     "output_type": "display_data"
    }
   ],
   "source": [
    "# create data for the plot\n",
    "male_height_mean = data[data[\"IsMale\"]==1][\"Height\"].mean()\n",
    "male_weight_mean = data[data[\"IsMale\"]==1][\"Weight\"].mean()\n",
    "\n",
    "fem_height_mean = data[data[\"IsMale\"]==0][\"Height\"].mean()\n",
    "fem_weight_mean = data[data[\"IsMale\"]==0][\"Weight\"].mean()\n",
    "\n",
    "male_BMI_mean = male_weight_mean/(male_height_mean)**2 * 703\n",
    "fem_BMI_mean = fem_weight_mean/(fem_height_mean)**2 * 703\n",
    "\n",
    "plotdata = pd.DataFrame({\n",
    "    \"Male\":[male_height_mean, male_weight_mean, male_BMI_mean],\n",
    "    \"Female\":[fem_height_mean,fem_weight_mean, fem_BMI_mean]},\n",
    "index=[\"Height\", \"Weight\", \"BMI\"])\n",
    "plotdata.plot(kind='bar', figsize=(6, 4))\n",
    "\n",
    "plt.title(\"Mean values for weight, height and BMI\")\n",
    "plt.ylabel(\"Mean values\")"
   ]
  },
  {
   "cell_type": "markdown",
   "metadata": {},
   "source": [
    "## Histogram\n",
    "A histogram divides the values within a numerical variable into “bins”, and counts the frequency of observations that fall into each bin. It is commonly used to obtain a very immediate and intuitive sense of the distribution of values within a variable."
   ]
  },
  {
   "cell_type": "code",
   "execution_count": 25,
   "metadata": {
    "scrolled": true
   },
   "outputs": [
    {
     "data": {
      "text/plain": [
       "Text(0, 0.5, 'Frequency')"
      ]
     },
     "execution_count": 25,
     "metadata": {},
     "output_type": "execute_result"
    },
    {
     "data": {
      "image/png": "[encoded data removed]",
      "text/plain": [
       "<Figure size 700x300 with 1 Axes>"
      ]
     },
     "metadata": {},
     "output_type": "display_data"
    }
   ],
   "source": [
    "# plot one column of data\n",
    "data.hist(column=\"Height\", bins=80, figsize=(7, 3))\n",
    "\n",
    "plt.title(\"Distribution of height\")\n",
    "plt.xlabel(\"Height, in\")\n",
    "plt.ylabel(\"Frequency\")"
   ]
  },
  {
   "cell_type": "markdown",
   "metadata": {},
   "source": [
    "This distribution is **unimodal**."
   ]
  },
  {
   "cell_type": "code",
   "execution_count": 26,
   "metadata": {
    "scrolled": true
   },
   "outputs": [
    {
     "data": {
      "text/plain": [
       "Text(0, 0.5, 'Frequency')"
      ]
     },
     "execution_count": 26,
     "metadata": {},
     "output_type": "execute_result"
    },
    {
     "data": {
      "image/png": "[encoded data removed]",
      "text/plain": [
       "<Figure size 700x300 with 1 Axes>"
      ]
     },
     "metadata": {},
     "output_type": "display_data"
    }
   ],
   "source": [
    "# plot one column of data\n",
    "data.hist(column=\"Weight\", bins=80, figsize=(7, 3))\n",
    "\n",
    "plt.title(\"Distribution of weight\")\n",
    "plt.xlabel(\"Weight, lbs\")\n",
    "plt.ylabel(\"Frequency\")"
   ]
  },
  {
   "cell_type": "markdown",
   "metadata": {},
   "source": [
    "This distribution is **bimodal**."
   ]
  },
  {
   "cell_type": "markdown",
   "metadata": {},
   "source": [
    "## Percentiles"
   ]
  },
  {
   "cell_type": "code",
   "execution_count": 27,
   "metadata": {},
   "outputs": [
    {
     "data": {
      "text/plain": [
       "0.25    63.505620\n",
       "0.50    66.318070\n",
       "0.75    69.174262\n",
       "Name: Height, dtype: float64"
      ]
     },
     "execution_count": 27,
     "metadata": {},
     "output_type": "execute_result"
    }
   ],
   "source": [
    "percentiles = [0.25, 0.5, 0.75]\n",
    "data['Height'].quantile(percentiles)"
   ]
  },
  {
   "cell_type": "markdown",
   "metadata": {},
   "source": [
    "We now use this to identify and remove outliers. We determine the value of a fence around the data:\n",
    "\n",
    "The interquartile range (IQR) is a measure of the spread of the middle 50% of the data. The IQR can be calculated as the difference between the 75-th percentile and the 25-th percentile of the dataset. Any data point outside the range of 1.5 times the IQR below the 25th percentile or above the 75th percentile can be considered an outlier.\n",
    "\n",
    "To identify outliers using the IQR, we can use the quantile() function in pandas to calculate the 25th and 75th percentiles of the dataset. We can then calculate the IQR and use it to identify outliers."
   ]
  },
  {
   "cell_type": "code",
   "execution_count": 28,
   "metadata": {},
   "outputs": [
    {
     "data": {
      "text/plain": [
       "Height    8\n",
       "Weight    8\n",
       "IsMale    8\n",
       "dtype: int64"
      ]
     },
     "execution_count": 28,
     "metadata": {},
     "output_type": "execute_result"
    }
   ],
   "source": [
    "# calculate IQR for column Height\n",
    "Q1 = data['Height'].quantile(0.25)\n",
    "Q3 = data['Height'].quantile(0.75)\n",
    "IQR = Q3 - Q1\n",
    "\n",
    "# identify outliers\n",
    "threshold = 1.5\n",
    "outliers = data[(data['Height'] < Q1 - threshold * IQR) | (data['Height'] > Q3 + threshold * IQR)]\n",
    "outliers.count()"
   ]
  },
  {
   "cell_type": "markdown",
   "metadata": {},
   "source": [
    "Remove outliers from the dataset."
   ]
  },
  {
   "cell_type": "code",
   "execution_count": 29,
   "metadata": {},
   "outputs": [],
   "source": [
    "# drop rows containing outliers\n",
    "data_clean = data.drop(outliers.index)"
   ]
  },
  {
   "cell_type": "markdown",
   "metadata": {},
   "source": [
    "## Box Plot"
   ]
  },
  {
   "cell_type": "code",
   "execution_count": 38,
   "metadata": {},
   "outputs": [
    {
     "data": {
      "text/plain": [
       "<Axes: >"
      ]
     },
     "execution_count": 38,
     "metadata": {},
     "output_type": "execute_result"
    },
    {
     "data": {
      "image/png": "[encoded data removed]",
      "text/plain": [
       "<Figure size 640x480 with 1 Axes>"
      ]
     },
     "metadata": {},
     "output_type": "display_data"
    }
   ],
   "source": [
    "col = 'Height'\n",
    "data.boxplot(column=col, vert=False)"
   ]
  },
  {
   "cell_type": "code",
   "execution_count": 34,
   "metadata": {},
   "outputs": [],
   "source": [
    "# let's define a function to remove outliers\n",
    "\n",
    "# let's define a function to remove outliers\n",
    "def get_outliers(df, col):\n",
    "    Q1 = df[col].quantile(0.25)\n",
    "    Q3 = df[col].quantile(0.75)\n",
    "    IQR = Q3 - Q1\n",
    "\n",
    "    # identify outliers\n",
    "    threshold = 1.5\n",
    "    outliers = df[(df[col] < Q1 - threshold * IQR) | (df[col] > Q3 + threshold * IQR)]\n",
    "    \n",
    "    return outliers.index\n",
    "\n",
    "def remove_outliers(df, index):\n",
    "    return df.drop(index)"
   ]
  },
  {
   "cell_type": "code",
   "execution_count": 35,
   "metadata": {},
   "outputs": [
    {
     "data": {
      "text/plain": [
       "<Axes: >"
      ]
     },
     "execution_count": 35,
     "metadata": {},
     "output_type": "execute_result"
    },
    {
     "data": {
      "image/png": "[encoded data removed]",
      "text/plain": [
       "<Figure size 640x480 with 1 Axes>"
      ]
     },
     "metadata": {},
     "output_type": "display_data"
    }
   ],
   "source": [
    "col = 'Height'\n",
    "outliers = get_outliers(data, col)\n",
    "df_clean = remove_outliers(data, outliers)\n",
    "df_clean.boxplot(column=col, vert=False)"
   ]
  },
  {
   "cell_type": "code",
   "execution_count": 36,
   "metadata": {},
   "outputs": [],
   "source": [
    "# now we can compare height of male and female aftewr removing their outliers\n",
    "col = 'Height'\n",
    "fem_outliers = get_outliers(data[data['IsMale']==0], col)\n",
    "male_outliers =  get_outliers(data[data['IsMale']==1], col)\n",
    "\n",
    "df_clean = remove_outliers(data, fem_outliers)\n",
    "df_clean = remove_outliers(df_clean, male_outliers)"
   ]
  },
  {
   "cell_type": "code",
   "execution_count": 37,
   "metadata": {},
   "outputs": [
    {
     "data": {
      "text/plain": [
       "<Axes: title={'center': 'Height'}, ylabel='IsMale'>"
      ]
     },
     "execution_count": 37,
     "metadata": {},
     "output_type": "execute_result"
    },
    {
     "data": {
      "image/png": "[encoded data removed]",
      "text/plain": [
       "<Figure size 640x480 with 1 Axes>"
      ]
     },
     "metadata": {},
     "output_type": "display_data"
    }
   ],
   "source": [
    "df_clean.boxplot(column=col, by='IsMale', vert=False )"
   ]
  },
  {
   "cell_type": "code",
   "execution_count": 39,
   "metadata": {},
   "outputs": [
    {
     "data": {
      "text/plain": [
       "<Axes: title={'center': 'Weight'}, ylabel='IsMale'>"
      ]
     },
     "execution_count": 39,
     "metadata": {},
     "output_type": "execute_result"
    },
    {
     "data": {
      "image/png": "[encoded data removed]",
      "text/plain": [
       "<Figure size 640x480 with 1 Axes>"
      ]
     },
     "metadata": {},
     "output_type": "display_data"
    }
   ],
   "source": [
    "# and now we will do the same for the weight\n",
    "col = 'Weight'\n",
    "fem_outliers = get_outliers(data[data['IsMale']==0], col)\n",
    "male_outliers =  get_outliers(data[data['IsMale']==1], col)\n",
    "\n",
    "df_clean = remove_outliers(data, fem_outliers)\n",
    "df_clean = remove_outliers(df_clean, male_outliers)\n",
    "\n",
    "df_clean.boxplot(column=col, by='IsMale', vert=False)"
   ]
  },
  {
   "cell_type": "markdown",
   "metadata": {},
   "source": [
    "## Scatter plot\n",
    "\n",
    "To estimate the relationships between two variables we create a scatter plot in two dimensions."
   ]
  },
  {
   "cell_type": "code",
   "execution_count": 42,
   "metadata": {},
   "outputs": [
    {
     "data": {
      "image/png": "[encoded data removed]",
      "text/plain": [
       "<Figure size 640x480 with 1 Axes>"
      ]
     },
     "metadata": {},
     "output_type": "display_data"
    }
   ],
   "source": [
    "# X = feature values, all the columns except the last column\n",
    "X = data.iloc[:, :-1]\n",
    "# y = target value, class, last column of the data frame\n",
    "Y = data.iloc[:, -1]\n",
    "\n",
    "# all males\n",
    "males = data[data[\"IsMale\"]==1]\n",
    "\n",
    "\n",
    "# all females\n",
    "females = data[data[\"IsMale\"]==0]\n",
    "\n",
    "# plot\n",
    "plt.scatter(males[\"Weight\"], males[\"Height\"], s=2, label='Males')\n",
    "plt.scatter(females[\"Weight\"], females[\"Height\"], s=2, label='Females')\n",
    "plt.legend()\n",
    "plt.show()"
   ]
  },
  {
   "cell_type": "markdown",
   "metadata": {},
   "source": [
    "Copyright &copy; 2024 Marina Barsky. All rights reserved."
   ]
  }
 ],
 "metadata": {
  "kernelspec": {
   "display_name": "Python 3 (ipykernel)",
   "language": "python",
   "name": "python3"
  },
  "language_info": {
   "codemirror_mode": {
    "name": "ipython",
    "version": 3
   },
   "file_extension": ".py",
   "mimetype": "text/x-python",
   "name": "python",
   "nbconvert_exporter": "python",
   "pygments_lexer": "ipython3",
   "version": "3.11.5"
  }
 },
 "nbformat": 4,
 "nbformat_minor": 4
}
