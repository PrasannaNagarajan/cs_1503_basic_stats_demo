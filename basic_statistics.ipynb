{
 "cells": [
  {
   "cell_type": "markdown",
   "metadata": {},
   "source": [
    "# Describing Datasets: demo"
   ]
  },
  {
   "cell_type": "markdown",
   "metadata": {},
   "source": [
    "# Part 1: Basic Statistics"
   ]
  },
  {
   "cell_type": "markdown",
   "metadata": {},
   "source": [
    "The sample input dataset is taken from Conway & Myles Machine Learning for Hackers book, Chapter 2.\n",
    "\n",
    "Each sample contains three columns.\n",
    "* Height in inches\n",
    "* Weight in pounds\n",
    "* IsMale: 1 corresponds to a male person, and 0 corresponds to a female person.\n",
    "\n",
    "We want to collect different basic statistics for this dataset."
   ]
  },
  {
   "cell_type": "code",
   "execution_count": null,
   "metadata": {},
   "outputs": [],
   "source": [
    " data_file = \"height_weight_gender.csv\""
   ]
  },
  {
   "cell_type": "code",
   "execution_count": null,
   "metadata": {},
   "outputs": [],
   "source": [
    "import pandas as pd\n",
    "\n",
    "data = pd.read_csv(data_file)\n",
    "print(data.columns)\n",
    "print(data.dtypes)"
   ]
  },
  {
   "cell_type": "code",
   "execution_count": null,
   "metadata": {
    "scrolled": true
   },
   "outputs": [],
   "source": [
    "data.describe()"
   ]
  },
  {
   "cell_type": "markdown",
   "metadata": {},
   "source": [
    "## Subset of a dataset"
   ]
  },
  {
   "cell_type": "code",
   "execution_count": null,
   "metadata": {},
   "outputs": [],
   "source": [
    "height = data[\"Height\"]\n",
    "height.head()"
   ]
  },
  {
   "cell_type": "code",
   "execution_count": null,
   "metadata": {},
   "outputs": [],
   "source": [
    "# Only women:\n",
    "women = data[data[\"IsMale\"]== 0]\n",
    "w_height = women[\"Height\"]\n",
    "w_height.head()"
   ]
  },
  {
   "cell_type": "code",
   "execution_count": null,
   "metadata": {},
   "outputs": [],
   "source": [
    "men = data[data[\"IsMale\"]== 1]\n",
    "m_height = men[\"Height\"]\n",
    "m_height.head()"
   ]
  },
  {
   "cell_type": "markdown",
   "metadata": {},
   "source": [
    "## Mean and Median\n",
    "\n",
    "To find a mean across a single dimension:"
   ]
  },
  {
   "cell_type": "code",
   "execution_count": null,
   "metadata": {},
   "outputs": [],
   "source": [
    "print(\"MEAN of the height:\")\n",
    "print(height.mean())"
   ]
  },
  {
   "cell_type": "code",
   "execution_count": null,
   "metadata": {},
   "outputs": [],
   "source": [
    "print(\"Mean of the men height:\")\n",
    "print(m_height.mean())"
   ]
  },
  {
   "cell_type": "code",
   "execution_count": null,
   "metadata": {},
   "outputs": [],
   "source": [
    "print(\"Mean of the women height:\")\n",
    "print(w_height.mean())"
   ]
  },
  {
   "cell_type": "markdown",
   "metadata": {},
   "source": [
    "To find a median:"
   ]
  },
  {
   "cell_type": "code",
   "execution_count": null,
   "metadata": {},
   "outputs": [],
   "source": [
    "print(\"MEDIAN of the height:\")\n",
    "print(height.median())"
   ]
  },
  {
   "cell_type": "markdown",
   "metadata": {},
   "source": [
    "The mean and the median do not differ significantly in this dataset."
   ]
  },
  {
   "cell_type": "markdown",
   "metadata": {},
   "source": [
    "## Difference between Mean and Median\n",
    "\n",
    "To see the difference let's add several new observations to the dataset: some tallest known men:\n",
    "\n",
    "272 cm (107.087 in)\n",
    "\n",
    "270 cm (106.299 in) \n",
    "\n",
    "269 cm (105.906 in)\n",
    "\n",
    "265 cm (104.331 in)\n",
    "\n",
    "264 cm (103.937 in)"
   ]
  },
  {
   "cell_type": "code",
   "execution_count": null,
   "metadata": {},
   "outputs": [],
   "source": [
    "# create a new dataset with an oulier\n",
    "m_height_out = m_height.copy()\n",
    "\n",
    "new_row =  107.087\n",
    "# add the new row at the end\n",
    "m_height_out.loc[len(m_height_out)] = new_row\n",
    "\n",
    "new_row =  106.299\n",
    "# add the new row at the end\n",
    "m_height_out.loc[len(m_height_out)] = new_row\n",
    "\n",
    "new_row =  106.906\n",
    "# add the new row at the end\n",
    "m_height_out.loc[len(m_height_out)] = new_row\n",
    "\n",
    "new_row =  104.331\n",
    "# add the new row at the end\n",
    "m_height_out.loc[len(m_height_out)] = new_row\n",
    "\n",
    "new_row =  103.937\n",
    "# add the new row at the end\n",
    "m_height_out.loc[len(m_height_out)] = new_row\n",
    "\n",
    "# check that they were added\n",
    "m_height_out.tail()"
   ]
  },
  {
   "cell_type": "code",
   "execution_count": null,
   "metadata": {},
   "outputs": [],
   "source": [
    "print(\"Mean of the height in the original dataset:\")\n",
    "print(m_height.mean())\n",
    "print(\"MEAN of the height in dataset with one outlier:\")\n",
    "print(m_height_out.mean())"
   ]
  },
  {
   "cell_type": "code",
   "execution_count": null,
   "metadata": {},
   "outputs": [],
   "source": [
    "print(\"MEDIAN of the height in the original dataset:\")\n",
    "print(m_height.median())\n",
    "print(\"MEDIAN of the height in dataset with one outlier:\")\n",
    "print(m_height_out.median())"
   ]
  },
  {
   "cell_type": "markdown",
   "metadata": {},
   "source": [
    "## Standard deviation\n",
    "To find a variance/standard deviation:"
   ]
  },
  {
   "cell_type": "code",
   "execution_count": null,
   "metadata": {},
   "outputs": [],
   "source": [
    "# Returns unbiased variance over requested axis.\n",
    "# Normalized by N-1 by default: ddof = 1\n",
    "height.var(ddof=1)"
   ]
  },
  {
   "cell_type": "markdown",
   "metadata": {},
   "source": [
    "If that wiould be not a sample but the entire population, we would set ddof=0:"
   ]
  },
  {
   "cell_type": "code",
   "execution_count": null,
   "metadata": {},
   "outputs": [],
   "source": [
    "# Population variance: ddof = 0\n",
    "height.var(ddof=0)"
   ]
  },
  {
   "cell_type": "code",
   "execution_count": null,
   "metadata": {},
   "outputs": [],
   "source": [
    "# Returns sample standard deviation over requested axis.\n",
    "# Normalized by N-1 by default: ddof = 1\n",
    "height.std(ddof=1)"
   ]
  },
  {
   "cell_type": "markdown",
   "metadata": {},
   "source": [
    "## Mode\n",
    "\n",
    "The mode of a set of values is the value that appears most often. It can be multiple values. \n",
    "\n",
    "Because the values of height and weight are continuous, the mode is not directly applicable here:"
   ]
  },
  {
   "cell_type": "code",
   "execution_count": null,
   "metadata": {
    "scrolled": true
   },
   "outputs": [],
   "source": [
    "data[\"Height\"].mode()"
   ]
  },
  {
   "cell_type": "markdown",
   "metadata": {},
   "source": [
    "That means that each value occurs only once, and every one of them is a mode value."
   ]
  },
  {
   "cell_type": "code",
   "execution_count": null,
   "metadata": {},
   "outputs": [],
   "source": [
    "# we convert the float into int\n",
    "int_height = data[\"Height\"].astype('int32')\n",
    "int_height.dtype"
   ]
  },
  {
   "cell_type": "code",
   "execution_count": null,
   "metadata": {},
   "outputs": [],
   "source": [
    "# check that this did not harm the original dataset\n",
    "data[\"Height\"].dtype"
   ]
  },
  {
   "cell_type": "code",
   "execution_count": null,
   "metadata": {
    "scrolled": false
   },
   "outputs": [],
   "source": [
    "# now compute basic statistics\n",
    "print(\"MEAN of the int_height:\")\n",
    "print(int_height.mean())\n",
    "\n",
    "print(\"MEDIAN of the int_height:\")\n",
    "print(int_height.median())\n",
    "\n",
    "print(\"MODE of the int_height:\")\n",
    "print(int_height.mode())"
   ]
  },
  {
   "cell_type": "markdown",
   "metadata": {},
   "source": [
    "# Part 2: Visualizing Data"
   ]
  },
  {
   "cell_type": "markdown",
   "metadata": {},
   "source": [
    "## Bar charts\n",
    "\n",
    "We use these charts to compare frequencies or counts: for example the count of data points in different categories. They are  often used for displaying nominal(categorical) data: data that has no inherent order or structure, such as hair color or preferred drink.\n",
    "\n",
    "In our dataset we have two categories: Male and Female. "
   ]
  },
  {
   "cell_type": "code",
   "execution_count": null,
   "metadata": {},
   "outputs": [],
   "source": [
    "import matplotlib.pyplot as plt\n",
    "%matplotlib inline\n",
    "# ^-- this \"magic\" tells all future matplotlib plots to be drawn inside notebook and not in a separate window."
   ]
  },
  {
   "cell_type": "markdown",
   "metadata": {},
   "source": [
    "How many total observations in each category? Using frequency counts for each."
   ]
  },
  {
   "cell_type": "code",
   "execution_count": null,
   "metadata": {},
   "outputs": [],
   "source": [
    "# create data for the plot\n",
    "plotdata = pd.DataFrame({\n",
    "    \"totals\":[m_height.count(), w_height.count()]},\n",
    "    index=[\"Male\", \"Female\"])\n",
    "plotdata.plot(kind='bar', figsize=(5, 3))\n",
    "\n",
    "plt.title(\"Total frequencies\")\n",
    "plt.ylabel(\"Count\")"
   ]
  },
  {
   "cell_type": "markdown",
   "metadata": {},
   "source": [
    "What is the mean height and mean weight of men and women in the dataset?\n",
    "\n",
    "We will also compute the mean BMI index:  \n",
    "\n",
    "$BMI = weight (lb) / height (in)^2 \\times 703$"
   ]
  },
  {
   "cell_type": "code",
   "execution_count": null,
   "metadata": {},
   "outputs": [],
   "source": [
    "# create data for the plot\n",
    "male_height_mean = data[data[\"IsMale\"]==1][\"Height\"].mean()\n",
    "male_weight_mean = data[data[\"IsMale\"]==1][\"Weight\"].mean()\n",
    "\n",
    "fem_height_mean = data[data[\"IsMale\"]==0][\"Height\"].mean()\n",
    "fem_weight_mean = data[data[\"IsMale\"]==0][\"Weight\"].mean()\n",
    "\n",
    "male_BMI_mean = male_weight_mean/(male_height_mean)**2 * 703\n",
    "fem_BMI_mean = fem_weight_mean/(fem_height_mean)**2 * 703\n",
    "\n",
    "plotdata = pd.DataFrame({\n",
    "    \"Male\":[male_height_mean, male_weight_mean, male_BMI_mean],\n",
    "    \"Female\":[fem_height_mean,fem_weight_mean, fem_BMI_mean]},\n",
    "index=[\"Height\", \"Weight\", \"BMI\"])\n",
    "plotdata.plot(kind='bar', figsize=(6, 4))\n",
    "\n",
    "plt.title(\"Mean values for weight, height and BMI\")\n",
    "plt.ylabel(\"Mean values\")"
   ]
  },
  {
   "cell_type": "markdown",
   "metadata": {},
   "source": [
    "## Histogram\n",
    "A histogram divides the values within a numerical variable into “bins”, and counts the frequency of observations that fall into each bin. It is commonly used to obtain a very immediate and intuitive sense of the distribution of values within a variable."
   ]
  },
  {
   "cell_type": "code",
   "execution_count": null,
   "metadata": {
    "scrolled": true
   },
   "outputs": [],
   "source": [
    "# plot one column of data\n",
    "data.hist(column=\"Height\", bins=80, figsize=(7, 3))\n",
    "\n",
    "plt.title(\"Distribution of height\")\n",
    "plt.xlabel(\"Height, in\")\n",
    "plt.ylabel(\"Frequency\")"
   ]
  },
  {
   "cell_type": "markdown",
   "metadata": {},
   "source": [
    "This distribution is **unimodal**."
   ]
  },
  {
   "cell_type": "code",
   "execution_count": null,
   "metadata": {
    "scrolled": true
   },
   "outputs": [],
   "source": [
    "# plot one column of data\n",
    "data.hist(column=\"Weight\", bins=80, figsize=(7, 3))\n",
    "\n",
    "plt.title(\"Distribution of weight\")\n",
    "plt.xlabel(\"Weight, lbs\")\n",
    "plt.ylabel(\"Frequency\")"
   ]
  },
  {
   "cell_type": "markdown",
   "metadata": {},
   "source": [
    "This distribution is **bimodal**."
   ]
  },
  {
   "cell_type": "markdown",
   "metadata": {},
   "source": [
    "## Percentiles"
   ]
  },
  {
   "cell_type": "markdown",
   "metadata": {},
   "source": []
  },
  {
   "cell_type": "code",
   "execution_count": null,
   "metadata": {},
   "outputs": [],
   "source": [
    "percentiles = [0.25, 0.5, 0.75]\n",
    "data['Height'].quantile(percentiles)"
   ]
  },
  {
   "cell_type": "markdown",
   "metadata": {},
   "source": [
    "We now use this to identify and remove outliers. We determine the value of a fence around the data:\n",
    "\n",
    "The interquartile range (IQR) is a measure of the spread of the middle 50% of the data. The IQR can be calculated as the difference between the 75-th percentile and the 25-th percentile of the dataset. Any data point outside the range of 1.5 times the IQR below the 25th percentile or above the 75th percentile can be considered an outlier.\n",
    "\n",
    "To identify outliers using the IQR, we can use the quantile() function in pandas to calculate the 25th and 75th percentiles of the dataset. We can then calculate the IQR and use it to identify outliers."
   ]
  },
  {
   "cell_type": "code",
   "execution_count": null,
   "metadata": {},
   "outputs": [],
   "source": [
    "# calculate IQR for column Height\n",
    "Q1 = data['Height'].quantile(0.25)\n",
    "Q3 = data['Height'].quantile(0.75)\n",
    "IQR = Q3 - Q1\n",
    "\n",
    "# identify outliers\n",
    "threshold = 1.5\n",
    "outliers = data[(data['Height'] < Q1 - threshold * IQR) | (data['Height'] > Q3 + threshold * IQR)]\n",
    "outliers.count()"
   ]
  },
  {
   "cell_type": "markdown",
   "metadata": {},
   "source": [
    "Remove outliers from the dataset."
   ]
  },
  {
   "cell_type": "code",
   "execution_count": null,
   "metadata": {},
   "outputs": [],
   "source": [
    "# drop rows containing outliers\n",
    "data_clean = data.drop(outliers.index)"
   ]
  },
  {
   "cell_type": "markdown",
   "metadata": {},
   "source": [
    "## Box Plot"
   ]
  },
  {
   "cell_type": "code",
   "execution_count": null,
   "metadata": {},
   "outputs": [],
   "source": [
    "# let's define a function to remove outliers\n",
    "\n",
    "# let's define a function to remove outliers\n",
    "def get_outliers(df, col):\n",
    "    Q1 = df[col].quantile(0.25)\n",
    "    Q3 = df[col].quantile(0.75)\n",
    "    IQR = Q3 - Q1\n",
    "\n",
    "    # identify outliers\n",
    "    threshold = 1.5\n",
    "    outliers = df[(df[col] < Q1 - threshold * IQR) | (df[col] > Q3 + threshold * IQR)]\n",
    "    \n",
    "    return outliers.index\n",
    "\n",
    "def remove_outliers(df, index):\n",
    "    return df.drop(index)"
   ]
  },
  {
   "cell_type": "code",
   "execution_count": null,
   "metadata": {},
   "outputs": [],
   "source": [
    "col = 'Height'\n",
    "outliers = get_outliers(data, col)\n",
    "df_clean = remove_outliers(data, outliers)\n",
    "df_clean.boxplot(column=col, vert=False)"
   ]
  },
  {
   "cell_type": "code",
   "execution_count": null,
   "metadata": {},
   "outputs": [],
   "source": [
    "# now we will compare height of male and female by removing their outliers\n",
    "col = 'Height'\n",
    "fem_outliers = get_outliers(data[data['IsMale']==0], col)\n",
    "male_outliers =  get_outliers(data[data['IsMale']==1], col)\n",
    "\n",
    "df_clean = remove_outliers(data, fem_outliers)\n",
    "df_clean = remove_outliers(df_clean, male_outliers)"
   ]
  },
  {
   "cell_type": "code",
   "execution_count": null,
   "metadata": {},
   "outputs": [],
   "source": [
    "df_clean.boxplot(column=col, by='IsMale', vert=False )"
   ]
  },
  {
   "cell_type": "code",
   "execution_count": null,
   "metadata": {},
   "outputs": [],
   "source": [
    "# and now we will do the same for the weight\n",
    "col = 'Weight'\n",
    "fem_outliers = get_outliers(data[data['IsMale']==0], col)\n",
    "male_outliers =  get_outliers(data[data['IsMale']==1], col)\n",
    "\n",
    "df_clean = remove_outliers(data, fem_outliers)\n",
    "df_clean = remove_outliers(df_clean, male_outliers)\n",
    "\n",
    "df_clean.boxplot(column=col, by='IsMale', vert=False)"
   ]
  },
  {
   "cell_type": "markdown",
   "metadata": {},
   "source": [
    "Copyright &copy; 2024 Marina Barsky. All rights reserved."
   ]
  }
 ],
 "metadata": {
  "kernelspec": {
   "display_name": "Python 3 (ipykernel)",
   "language": "python",
   "name": "python3"
  },
  "language_info": {
   "codemirror_mode": {
    "name": "ipython",
    "version": 3
   },
   "file_extension": ".py",
   "mimetype": "text/x-python",
   "name": "python",
   "nbconvert_exporter": "python",
   "pygments_lexer": "ipython3",
   "version": "3.11.5"
  }
 },
 "nbformat": 4,
 "nbformat_minor": 4
}
